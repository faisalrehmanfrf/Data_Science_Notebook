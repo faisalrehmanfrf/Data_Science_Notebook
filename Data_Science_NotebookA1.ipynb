{
 "cells": [
  {
   "cell_type": "markdown",
   "id": "2dd9ae04-72ac-428f-8ffb-1d9c7b0bf721",
   "metadata": {},
   "source": [
    "Exercise 2 - Create a Markdown cell with the title of the notebook. (1 pt)\n",
    "# Data Science Notebook\r\n"
   ]
  },
  {
   "cell_type": "markdown",
   "id": "0d2b6241-473b-4862-b36d-c8605723ad3d",
   "metadata": {},
   "source": [
    "Exercise 3 - Create a Markdown cell for an introduction. (1 pt)\n",
    "## Introduction\n",
    "Welcome to this data science notebook! In this project, we will explore various aspects of data science and demonstrate key concepts through Markdown and code cells.\n"
   ]
  },
  {
   "cell_type": "markdown",
   "id": "526b30e2-0da3-44e5-95c2-6c4696b56091",
   "metadata": {},
   "source": [
    "Exercise 4 - Create a Markdown cell to list data science languages. (3 pts)\n",
    "## Data Science Languages\n",
    "1. Python\n",
    "2. R\n",
    "3. Julia\n"
   ]
  },
  {
   "cell_type": "markdown",
   "id": "58aea5f1-54fa-4b93-be55-a16484ac3c3f",
   "metadata": {},
   "source": [
    "Exercise 5 - Create a Markdown cell to list data science libraries. (3 pts)\n",
    "## Data Science Libraries\n",
    "1. NumPy\n",
    "2. Pandas\n",
    "3. Matplotlib\n"
   ]
  },
  {
   "cell_type": "markdown",
   "id": "4f5882a7-9346-4ca9-ad64-753370ab6c21",
   "metadata": {},
   "source": [
    "Exercise 6 - Create a Markdown cell with a table of Data Science tools. (3 pts)\n",
    "## Data Science Tools\n",
    "| Tool         | Purpose                  |\n",
    "|--------------|--------------------------|\n",
    "| Jupyter      | Interactive Computing   |\n",
    "| TensorFlow   | Machine Learning         |\n",
    "| Tableau      | Data Visualization       |\n"
   ]
  },
  {
   "cell_type": "markdown",
   "id": "a4611772-06cc-46fd-9dbb-add1c859a331",
   "metadata": {},
   "source": [
    "Exercise 7 - Create a Markdown cell introducing arithmetic expression examples. (1 pt)\n",
    "## Arithmetic Expression Examples\n",
    "Let's explore some basic arithmetic expressions to understand mathematical operations in programming.\n"
   ]
  },
  {
   "cell_type": "markdown",
   "id": "bad83660-f928-4b40-8059-34aab4e98792",
   "metadata": {},
   "source": [
    "Exercise 8 - Create a code cell to multiply and add numbers. (2 pts)\n"
   ]
  },
  {
   "cell_type": "code",
   "execution_count": 1,
   "id": "4a195f5d-b01b-47f2-bd3d-ef0daf0bbfae",
   "metadata": {},
   "outputs": [
    {
     "data": {
      "text/plain": [
       "(50, 15)"
      ]
     },
     "execution_count": 1,
     "metadata": {},
     "output_type": "execute_result"
    }
   ],
   "source": [
    "# Multiply and add numbers\n",
    "result_multiply = 5 * 10\n",
    "result_add = 5 + 10\n",
    "\n",
    "result_multiply, result_add\n"
   ]
  },
  {
   "cell_type": "markdown",
   "id": "7064c175-fc93-4e49-a42f-8900b922fae4",
   "metadata": {},
   "source": [
    "Exercise 9 - Create a code cell to convert minutes to hours. (2 pts)\n"
   ]
  },
  {
   "cell_type": "code",
   "execution_count": 2,
   "id": "16ed3adf-5cc0-4d58-869c-6f5e7a4f7592",
   "metadata": {},
   "outputs": [
    {
     "data": {
      "text/plain": [
       "2.0"
      ]
     },
     "execution_count": 2,
     "metadata": {},
     "output_type": "execute_result"
    }
   ],
   "source": [
    "# Convert minutes to hours\n",
    "minutes = 120\n",
    "hours = minutes / 60\n",
    "\n",
    "hours\n"
   ]
  },
  {
   "cell_type": "markdown",
   "id": "b84ed59b-8932-4381-a18f-2f7b1ac6d53f",
   "metadata": {},
   "source": [
    "Exercise 10 - Insert a Markdown cell to list Objectives. (3 pts)\n",
    "## Objectives\n",
    "1. Demonstrate proficiency in using Markdown and code cells.\n",
    "2. Showcase knowledge of data science languages and libraries.\n",
    "3. Present examples of basic arithmetic operations.\n"
   ]
  },
  {
   "cell_type": "markdown",
   "id": "5586c132-9429-4b0a-ba5c-6f07ba4fadd0",
   "metadata": {},
   "source": [
    "Exercise 11 - Create a Markdown cell to indicate the Author’s name. (2 pts)\n",
    "\n",
    "Faisal"
   ]
  },
  {
   "cell_type": "code",
   "execution_count": null,
   "id": "79260357-5229-4317-a5d9-1827881fbd67",
   "metadata": {},
   "outputs": [],
   "source": []
  }
 ],
 "metadata": {
  "kernelspec": {
   "display_name": "Python 3 (ipykernel)",
   "language": "python",
   "name": "python3"
  },
  "language_info": {
   "codemirror_mode": {
    "name": "ipython",
    "version": 3
   },
   "file_extension": ".py",
   "mimetype": "text/x-python",
   "name": "python",
   "nbconvert_exporter": "python",
   "pygments_lexer": "ipython3",
   "version": "3.11.3"
  }
 },
 "nbformat": 4,
 "nbformat_minor": 5
}
